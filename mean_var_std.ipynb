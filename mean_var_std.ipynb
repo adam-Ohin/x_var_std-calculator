{
 "cells": [
  {
   "cell_type": "code",
   "execution_count": 156,
   "id": "02f854ef",
   "metadata": {},
   "outputs": [],
   "source": [
    "import numpy as np"
   ]
  },
  {
   "cell_type": "code",
   "execution_count": 164,
   "id": "ec5cb6dc",
   "metadata": {},
   "outputs": [
    {
     "name": "stdout",
     "output_type": "stream",
     "text": [
      "Please enter value as a: a\n"
     ]
    }
   ],
   "source": [
    "#Receive an input from a user\n",
    "value = input('Please enter value as a: ')\n",
    "\n",
    "a = range(0,9)\n",
    "\n",
    "#create a function\n",
    "def calculate (val):\n",
    "    if len(val) != 9:\n",
    "        print (\"Not a 3x3 expected matrix value\")\n",
    "        \n",
    "    #convert to numpy array and reshape to 3x3 matrix     \n",
    "    num = np.array(val).reshape(3,3)\n",
    "    result = {\"mean\": [num.mean(0).tolist(), num.mean(1).tolist(), num.mean()],         \n",
    "        \"variance\": [num.var(0).tolist(), num.var(1).tolist(), num.var()],   \n",
    "        \"standard deviation\": [num.std(0).tolist(), num.std(1).tolist(), num.std()],\n",
    "        \"max\": [num.max(0).tolist(), num.max(1).tolist(), num.max()],\n",
    "        \"min\": [num.min(0).tolist(), num.min(1).tolist(), num.min()],\n",
    "        \"sum\": [num.sum(0).tolist(), num.sum(1).tolist(), num.sum()]}\n",
    "    return result\n",
    "    \n"
   ]
  },
  {
   "cell_type": "code",
   "execution_count": 165,
   "id": "e1ce8c84",
   "metadata": {},
   "outputs": [
    {
     "data": {
      "text/plain": [
       "{'mean': [[3.0, 4.0, 5.0], [1.0, 4.0, 7.0], 4.0],\n",
       " 'variance': [[6.0, 6.0, 6.0],\n",
       "  [0.6666666666666666, 0.6666666666666666, 0.6666666666666666],\n",
       "  6.666666666666667],\n",
       " 'standard deviation': [[2.449489742783178,\n",
       "   2.449489742783178,\n",
       "   2.449489742783178],\n",
       "  [0.816496580927726, 0.816496580927726, 0.816496580927726],\n",
       "  2.581988897471611],\n",
       " 'max': [[6, 7, 8], [2, 5, 8], 8],\n",
       " 'min': [[0, 1, 2], [0, 3, 6], 0],\n",
       " 'sum': [[9, 12, 15], [3, 12, 21], 36]}"
      ]
     },
     "execution_count": 165,
     "metadata": {},
     "output_type": "execute_result"
    }
   ],
   "source": [
    "# Call the created function\n",
    "calculate([i for i in a])"
   ]
  }
 ],
 "metadata": {
  "kernelspec": {
   "display_name": "Python 3 (ipykernel)",
   "language": "python",
   "name": "python3"
  },
  "language_info": {
   "codemirror_mode": {
    "name": "ipython",
    "version": 3
   },
   "file_extension": ".py",
   "mimetype": "text/x-python",
   "name": "python",
   "nbconvert_exporter": "python",
   "pygments_lexer": "ipython3",
   "version": "3.9.12"
  }
 },
 "nbformat": 4,
 "nbformat_minor": 5
}
